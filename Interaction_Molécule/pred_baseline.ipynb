{
 "cells": [
  {
   "cell_type": "markdown",
   "id": "fa5b28fe-bd72-46f8-b96c-78edba995ad5",
   "metadata": {},
   "source": [
    "# Prédire l'interaction molécule - protéine pour la découverte de médicaments\n",
    "Rachid Sahli - rachidsahli144@outlook.fr"
   ]
  },
  {
   "cell_type": "markdown",
   "id": "3ac6f163-a4c4-4188-a05c-e80c6a9b336f",
   "metadata": {},
   "source": [
    "### Import des données "
   ]
  },
  {
   "cell_type": "code",
   "execution_count": 1,
   "id": "87db58c2-b96c-4806-b0ab-229ac4f06c83",
   "metadata": {},
   "outputs": [],
   "source": [
    "# !pip install rdkit\n",
    "# !pip install py3Dmol\n",
    "\n",
    "# Import librairies ----\n",
    "## Algèbre linéaire et manipulation de données\n",
    "import numpy as np\n",
    "import pandas as pd\n",
    "\n",
    "# Viasualisaton moléculaire\n",
    "import py3Dmol\n",
    "\n",
    "## RDKit\n",
    "import rdkit \n",
    "from rdkit import Chem\n",
    "from rdkit.Chem import AllChem\n",
    "from rdkit.Chem import rdFingerprintGenerator\n",
    "from rdkit.Chem import Draw\n",
    "\n",
    "## Machine learning\n",
    "from sklearn.ensemble import RandomForestRegressor\n",
    "from sklearn.model_selection import cross_validate"
   ]
  },
  {
   "cell_type": "code",
   "execution_count": 2,
   "id": "9a989f98-5c02-45e4-977d-1b08d50e1721",
   "metadata": {},
   "outputs": [
    {
     "name": "stdout",
     "output_type": "stream",
     "text": [
      "Le dataset d'entraînement contient 4400 molécules.\n",
      "le dataset de test contient 2934 molécules.\n"
     ]
    },
    {
     "data": {
      "text/html": [
       "<div>\n",
       "<style scoped>\n",
       "    .dataframe tbody tr th:only-of-type {\n",
       "        vertical-align: middle;\n",
       "    }\n",
       "\n",
       "    .dataframe tbody tr th {\n",
       "        vertical-align: top;\n",
       "    }\n",
       "\n",
       "    .dataframe thead th {\n",
       "        text-align: right;\n",
       "    }\n",
       "</style>\n",
       "<table border=\"1\" class=\"dataframe\">\n",
       "  <thead>\n",
       "    <tr style=\"text-align: right;\">\n",
       "      <th></th>\n",
       "      <th>id</th>\n",
       "      <th>smiles</th>\n",
       "    </tr>\n",
       "  </thead>\n",
       "  <tbody>\n",
       "    <tr>\n",
       "      <th>0</th>\n",
       "      <td>0</td>\n",
       "      <td>CNC(=O)c1ccccc1Sc1ccc2c(C#Cc3cccc(NCCOC)c3)n[n...</td>\n",
       "    </tr>\n",
       "    <tr>\n",
       "      <th>1</th>\n",
       "      <td>1</td>\n",
       "      <td>CC(C)(C)c1ccc(Nc2nnc(-c3cnccc3CCc3ccncc3)o2)cc1</td>\n",
       "    </tr>\n",
       "    <tr>\n",
       "      <th>2</th>\n",
       "      <td>2</td>\n",
       "      <td>CN1CCN(CCCn2ccc(-c3cnc4c(-c5ccsc5)cnn4c3)cc2=O...</td>\n",
       "    </tr>\n",
       "    <tr>\n",
       "      <th>3</th>\n",
       "      <td>3</td>\n",
       "      <td>CCn1c2ccc(NC(=O)Nc3ccc(OC)cc3)cc2c2c3c(c4c(c21...</td>\n",
       "    </tr>\n",
       "    <tr>\n",
       "      <th>4</th>\n",
       "      <td>4</td>\n",
       "      <td>Cc1ccc(C(=O)Nc2cccc(C(C)C)c2)cc1N1CCc2ncncc2C1</td>\n",
       "    </tr>\n",
       "  </tbody>\n",
       "</table>\n",
       "</div>"
      ],
      "text/plain": [
       "   id                                             smiles\n",
       "0   0  CNC(=O)c1ccccc1Sc1ccc2c(C#Cc3cccc(NCCOC)c3)n[n...\n",
       "1   1    CC(C)(C)c1ccc(Nc2nnc(-c3cnccc3CCc3ccncc3)o2)cc1\n",
       "2   2  CN1CCN(CCCn2ccc(-c3cnc4c(-c5ccsc5)cnn4c3)cc2=O...\n",
       "3   3  CCn1c2ccc(NC(=O)Nc3ccc(OC)cc3)cc2c2c3c(c4c(c21...\n",
       "4   4     Cc1ccc(C(=O)Nc2cccc(C(C)C)c2)cc1N1CCc2ncncc2C1"
      ]
     },
     "execution_count": 2,
     "metadata": {},
     "output_type": "execute_result"
    }
   ],
   "source": [
    "# Import data ----\n",
    "train = pd.read_csv('data/x_train.csv')\n",
    "test = pd.read_csv('data/x_test.csv')\n",
    "\n",
    "y_train = pd.read_csv('data/y_train.csv')['y']\n",
    "\n",
    "print(f\"Le dataset d'entraînement contient {train.shape[0]} molécules.\")\n",
    "print(f\"le dataset de test contient {test.shape[0]} molécules.\")\n",
    "\n",
    "train.head()"
   ]
  },
  {
   "cell_type": "markdown",
   "id": "16188d85-690b-41e1-a592-c6d00b2130e8",
   "metadata": {},
   "source": [
    "Les molécules sont au format SMILES. Afin de pouvoir les manipuler avec la librairie rdkit, nous les convertissons au format\n",
    "'Mol'"
   ]
  },
  {
   "cell_type": "code",
   "execution_count": 3,
   "id": "a8eed8e2-e8d8-42d1-bfed-3c2cff836edc",
   "metadata": {},
   "outputs": [
    {
     "name": "stdout",
     "output_type": "stream",
     "text": [
      "<class 'rdkit.Chem.rdchem.Mol'>\n"
     ]
    }
   ],
   "source": [
    "# Convertion\n",
    "train_mols = [AllChem.MolFromSmiles(smile) for smile in train['smiles']]\n",
    "test_mols = [AllChem.MolFromSmiles(smile) for smile in test['smiles']]\n",
    "\n",
    "print(type(train_mols[0]))"
   ]
  },
  {
   "cell_type": "markdown",
   "id": "489808f8-2969-4361-b6e5-8fb561298047",
   "metadata": {},
   "source": [
    "### Visualisation des molécules"
   ]
  },
  {
   "cell_type": "code",
   "execution_count": 4,
   "id": "cb05ec9d-d5f2-476d-a93d-b642db321d38",
   "metadata": {},
   "outputs": [
    {
     "data": {
      "image/jpeg": "[encoded data removed]",
      "image/png": "[encoded data removed]",
      "text/plain": [
       "<PIL.PngImagePlugin.PngImageFile image mode=RGB size=300x300>"
      ]
     },
     "metadata": {},
     "output_type": "display_data"
    },
    {
     "data": {
      "application/3dmoljs_load.v0": "<div id=\"3dmolviewer_1741853510753498\"  style=\"position: relative; width: 450px; height: 400px;\">\n        <p id=\"3dmolwarning_1741853510753498\" style=\"background-color:#ffcccc;color:black\">3Dmol.js failed to load for some reason.  Please check your browser console for error messages.<br></p>\n        </div>\n<script>\n\nvar loadScriptAsync = function(uri){\n  return new Promise((resolve, reject) => {\n    //this is to ignore the existence of requirejs amd\n    var savedexports, savedmodule;\n    if (typeof exports !== 'undefined') savedexports = exports;\n    else exports = {}\n    if (typeof module !== 'undefined') savedmodule = module;\n    else module = {}\n\n    var tag = document.createElement('script');\n    tag.src = uri;\n    tag.async = true;\n    tag.onload = () => {\n        exports = savedexports;\n        module = savedmodule;\n        resolve();\n    };\n  var firstScriptTag = document.getElementsByTagName('script')[0];\n  firstScriptTag.parentNode.insertBefore(tag, firstScriptTag);\n});\n};\n\nif(typeof $3Dmolpromise === 'undefined') {\n$3Dmolpromise = null;\n  $3Dmolpromise = loadScriptAsync('https://cdnjs.cloudflare.com/ajax/libs/3Dmol/2.4.2/3Dmol-min.js');\n}\n\nvar viewer_1741853510753498 = null;\nvar warn = document.getElementById(\"3dmolwarning_1741853510753498\");\nif(warn) {\n    warn.parentNode.removeChild(warn);\n}\n$3Dmolpromise.then(function() {\nviewer_1741853510753498 = $3Dmol.createViewer(document.getElementById(\"3dmolviewer_1741853510753498\"),{backgroundColor:\"white\"});\nviewer_1741853510753498.zoomTo();\n\tviewer_1741853510753498.addModel(\"\\n     RDKit          2D\\n\\n 30 33  0  0  0  0  0  0  0  0999 V2000\\n    3.0000   -1.5000    0.0000 C   0  0  0  0  0  0  0  0  0  0  0  0\\n    3.0000    0.0000    0.0000 C   0  0  0  0  0  0  0  0  0  0  0  0\\n    3.0000    1.5000    0.0000 C   0  0  0  0  0  0  0  0  0  0  0  0\\n    4.5000    0.0000    0.0000 C   0  0  0  0  0  0  0  0  0  0  0  0\\n    1.5000    0.0000    0.0000 C   0  0  0  0  0  0  0  0  0  0  0  0\\n    0.7500   -1.2990    0.0000 C   0  0  0  0  0  0  0  0  0  0  0  0\\n   -0.7500   -1.2990    0.0000 C   0  0  0  0  0  0  0  0  0  0  0  0\\n   -1.5000    0.0000    0.0000 C   0  0  0  0  0  0  0  0  0  0  0  0\\n   -3.0000    0.0000    0.0000 N   0  0  0  0  0  0  0  0  0  0  0  0\\n   -3.7500    1.2990    0.0000 C   0  0  0  0  0  0  0  0  0  0  0  0\\n   -5.2418    1.4558    0.0000 N   0  0  0  0  0  0  0  0  0  0  0  0\\n   -5.5537    2.9231    0.0000 N   0  0  0  0  0  0  0  0  0  0  0  0\\n   -4.2546    3.6731    0.0000 C   0  0  0  0  0  0  0  0  0  0  0  0\\n   -4.0978    5.1648    0.0000 C   0  0  0  0  0  0  0  0  0  0  0  0\\n   -2.7275    5.7749    0.0000 C   0  0  0  0  0  0  0  0  0  0  0  0\\n   -2.5707    7.2667    0.0000 N   0  0  0  0  0  0  0  0  0  0  0  0\\n   -3.7842    8.1484    0.0000 C   0  0  0  0  0  0  0  0  0  0  0  0\\n   -5.1546    7.5383    0.0000 C   0  0  0  0  0  0  0  0  0  0  0  0\\n   -5.3113    6.0465    0.0000 C   0  0  0  0  0  0  0  0  0  0  0  0\\n   -6.6817    5.4364    0.0000 C   0  0  0  0  0  0  0  0  0  0  0  0\\n   -7.8952    6.3181    0.0000 C   0  0  0  0  0  0  0  0  0  0  0  0\\n   -9.2655    5.7080    0.0000 C   0  0  0  0  0  0  0  0  0  0  0  0\\n  -10.4790    6.5897    0.0000 C   0  0  0  0  0  0  0  0  0  0  0  0\\n  -11.8494    5.9796    0.0000 C   0  0  0  0  0  0  0  0  0  0  0  0\\n  -12.0061    4.4878    0.0000 N   0  0  0  0  0  0  0  0  0  0  0  0\\n  -10.7926    3.6061    0.0000 C   0  0  0  0  0  0  0  0  0  0  0  0\\n   -9.4223    4.2162    0.0000 C   0  0  0  0  0  0  0  0  0  0  0  0\\n   -3.1399    2.6694    0.0000 O   0  0  0  0  0  0  0  0  0  0  0  0\\n   -0.7500    1.2990    0.0000 C   0  0  0  0  0  0  0  0  0  0  0  0\\n    0.7500    1.2990    0.0000 C   0  0  0  0  0  0  0  0  0  0  0  0\\n  1  2  1  0\\n  2  3  1  0\\n  2  4  1  0\\n  2  5  1  0\\n  5  6  2  0\\n  6  7  1  0\\n  7  8  2  0\\n  8  9  1  0\\n  9 10  1  0\\n 10 11  2  0\\n 11 12  1  0\\n 12 13  2  0\\n 13 14  1  0\\n 14 15  2  0\\n 15 16  1  0\\n 16 17  2  0\\n 17 18  1  0\\n 18 19  2  0\\n 19 20  1  0\\n 20 21  1  0\\n 21 22  1  0\\n 22 23  2  0\\n 23 24  1  0\\n 24 25  2  0\\n 25 26  1  0\\n 26 27  2  0\\n 13 28  1  0\\n  8 29  1  0\\n 29 30  2  0\\n 30  5  1  0\\n 28 10  1  0\\n 19 14  1  0\\n 27 22  1  0\\nM  END\\n\",\"mol\");\n\tviewer_1741853510753498.setStyle({\"stick\": {}});\n\tviewer_1741853510753498.zoomTo();\nviewer_1741853510753498.render();\n});\n</script>",
      "text/html": [
       "<div id=\"3dmolviewer_1741853510753498\"  style=\"position: relative; width: 450px; height: 400px;\">\n",
       "        <p id=\"3dmolwarning_1741853510753498\" style=\"background-color:#ffcccc;color:black\">3Dmol.js failed to load for some reason.  Please check your browser console for error messages.<br></p>\n",
       "        </div>\n",
       "<script>\n",
       "\n",
       "var loadScriptAsync = function(uri){\n",
       "  return new Promise((resolve, reject) => {\n",
       "    //this is to ignore the existence of requirejs amd\n",
       "    var savedexports, savedmodule;\n",
       "    if (typeof exports !== 'undefined') savedexports = exports;\n",
       "    else exports = {}\n",
       "    if (typeof module !== 'undefined') savedmodule = module;\n",
       "    else module = {}\n",
       "\n",
       "    var tag = document.createElement('script');\n",
       "    tag.src = uri;\n",
       "    tag.async = true;\n",
       "    tag.onload = () => {\n",
       "        exports = savedexports;\n",
       "        module = savedmodule;\n",
       "        resolve();\n",
       "    };\n",
       "  var firstScriptTag = document.getElementsByTagName('script')[0];\n",
       "  firstScriptTag.parentNode.insertBefore(tag, firstScriptTag);\n",
       "});\n",
       "};\n",
       "\n",
       "if(typeof $3Dmolpromise === 'undefined') {\n",
       "$3Dmolpromise = null;\n",
       "  $3Dmolpromise = loadScriptAsync('https://cdnjs.cloudflare.com/ajax/libs/3Dmol/2.4.2/3Dmol-min.js');\n",
       "}\n",
       "\n",
       "var viewer_1741853510753498 = null;\n",
       "var warn = document.getElementById(\"3dmolwarning_1741853510753498\");\n",
       "if(warn) {\n",
       "    warn.parentNode.removeChild(warn);\n",
       "}\n",
       "$3Dmolpromise.then(function() {\n",
       "viewer_1741853510753498 = $3Dmol.createViewer(document.getElementById(\"3dmolviewer_1741853510753498\"),{backgroundColor:\"white\"});\n",
       "viewer_1741853510753498.zoomTo();\n",
       "\tviewer_1741853510753498.addModel(\"\\n     RDKit          2D\\n\\n 30 33  0  0  0  0  0  0  0  0999 V2000\\n    3.0000   -1.5000    0.0000 C   0  0  0  0  0  0  0  0  0  0  0  0\\n    3.0000    0.0000    0.0000 C   0  0  0  0  0  0  0  0  0  0  0  0\\n    3.0000    1.5000    0.0000 C   0  0  0  0  0  0  0  0  0  0  0  0\\n    4.5000    0.0000    0.0000 C   0  0  0  0  0  0  0  0  0  0  0  0\\n    1.5000    0.0000    0.0000 C   0  0  0  0  0  0  0  0  0  0  0  0\\n    0.7500   -1.2990    0.0000 C   0  0  0  0  0  0  0  0  0  0  0  0\\n   -0.7500   -1.2990    0.0000 C   0  0  0  0  0  0  0  0  0  0  0  0\\n   -1.5000    0.0000    0.0000 C   0  0  0  0  0  0  0  0  0  0  0  0\\n   -3.0000    0.0000    0.0000 N   0  0  0  0  0  0  0  0  0  0  0  0\\n   -3.7500    1.2990    0.0000 C   0  0  0  0  0  0  0  0  0  0  0  0\\n   -5.2418    1.4558    0.0000 N   0  0  0  0  0  0  0  0  0  0  0  0\\n   -5.5537    2.9231    0.0000 N   0  0  0  0  0  0  0  0  0  0  0  0\\n   -4.2546    3.6731    0.0000 C   0  0  0  0  0  0  0  0  0  0  0  0\\n   -4.0978    5.1648    0.0000 C   0  0  0  0  0  0  0  0  0  0  0  0\\n   -2.7275    5.7749    0.0000 C   0  0  0  0  0  0  0  0  0  0  0  0\\n   -2.5707    7.2667    0.0000 N   0  0  0  0  0  0  0  0  0  0  0  0\\n   -3.7842    8.1484    0.0000 C   0  0  0  0  0  0  0  0  0  0  0  0\\n   -5.1546    7.5383    0.0000 C   0  0  0  0  0  0  0  0  0  0  0  0\\n   -5.3113    6.0465    0.0000 C   0  0  0  0  0  0  0  0  0  0  0  0\\n   -6.6817    5.4364    0.0000 C   0  0  0  0  0  0  0  0  0  0  0  0\\n   -7.8952    6.3181    0.0000 C   0  0  0  0  0  0  0  0  0  0  0  0\\n   -9.2655    5.7080    0.0000 C   0  0  0  0  0  0  0  0  0  0  0  0\\n  -10.4790    6.5897    0.0000 C   0  0  0  0  0  0  0  0  0  0  0  0\\n  -11.8494    5.9796    0.0000 C   0  0  0  0  0  0  0  0  0  0  0  0\\n  -12.0061    4.4878    0.0000 N   0  0  0  0  0  0  0  0  0  0  0  0\\n  -10.7926    3.6061    0.0000 C   0  0  0  0  0  0  0  0  0  0  0  0\\n   -9.4223    4.2162    0.0000 C   0  0  0  0  0  0  0  0  0  0  0  0\\n   -3.1399    2.6694    0.0000 O   0  0  0  0  0  0  0  0  0  0  0  0\\n   -0.7500    1.2990    0.0000 C   0  0  0  0  0  0  0  0  0  0  0  0\\n    0.7500    1.2990    0.0000 C   0  0  0  0  0  0  0  0  0  0  0  0\\n  1  2  1  0\\n  2  3  1  0\\n  2  4  1  0\\n  2  5  1  0\\n  5  6  2  0\\n  6  7  1  0\\n  7  8  2  0\\n  8  9  1  0\\n  9 10  1  0\\n 10 11  2  0\\n 11 12  1  0\\n 12 13  2  0\\n 13 14  1  0\\n 14 15  2  0\\n 15 16  1  0\\n 16 17  2  0\\n 17 18  1  0\\n 18 19  2  0\\n 19 20  1  0\\n 20 21  1  0\\n 21 22  1  0\\n 22 23  2  0\\n 23 24  1  0\\n 24 25  2  0\\n 25 26  1  0\\n 26 27  2  0\\n 13 28  1  0\\n  8 29  1  0\\n 29 30  2  0\\n 30  5  1  0\\n 28 10  1  0\\n 19 14  1  0\\n 27 22  1  0\\nM  END\\n\",\"mol\");\n",
       "\tviewer_1741853510753498.setStyle({\"stick\": {}});\n",
       "\tviewer_1741853510753498.zoomTo();\n",
       "viewer_1741853510753498.render();\n",
       "});\n",
       "</script>"
      ]
     },
     "metadata": {},
     "output_type": "display_data"
    }
   ],
   "source": [
    "index = 1  # Index de la molécule\n",
    "mol = train_mols[index]\n",
    "img = Draw.MolToImage(mol)\n",
    "display(img) # Affichage de la molécule\n",
    "\n",
    "# Affichage en 3D\n",
    "view = py3Dmol.view(width=450, height=400)\n",
    "mol = train_mols[index]  \n",
    "mol_block = Chem.MolToMolBlock(mol)\n",
    "view.addModel(mol_block, \"mol\")\n",
    "view.setStyle({\"stick\": {}})\n",
    "view.zoomTo()\n",
    "view.show()"
   ]
  },
  {
   "cell_type": "markdown",
   "id": "5dad3da3-4a0c-498b-9a38-bc5392b84fb0",
   "metadata": {},
   "source": [
    "### Calcul des empreintes moléculaires (fingerprints)"
   ]
  },
  {
   "cell_type": "markdown",
   "id": "589cefd5-547b-460f-9ac1-3e4cf7fdc5fb",
   "metadata": {},
   "source": [
    "Les fingerprints sont des vecteurs binaires qui capturent la présence ou l'absence de caractéristiques chimiques spécifiques, telles que les groupes fonctionnels, les types d'atomes, les liaisons ou les propriétés moléculaires. C'est une manière courante d'encoder l'information contenue dans une molécule. On convertit donc nos molécules intialement stockées au format SMILES en fingerprints. "
   ]
  },
  {
   "cell_type": "code",
   "execution_count": 5,
   "id": "939646c0-d142-4033-9d87-09dd91af9337",
   "metadata": {},
   "outputs": [
    {
     "name": "stdout",
     "output_type": "stream",
     "text": [
      "Le dataset d'entraînement contient 4400 molécules encodées avec 2048 bits.\n",
      "Le  dataset de test contient 2934 molécules encodées avec  2048 bits.\n"
     ]
    }
   ],
   "source": [
    "# Convertion de Mol à Fingerprints\n",
    "morgan_gen = rdFingerprintGenerator.GetMorganGenerator(radius=2,fpSize=2048)\n",
    "train_fps = np.array([morgan_gen.GetFingerprint(mol) for mol in train_mols])\n",
    "test_fps = np.array([morgan_gen.GetFingerprint(mol) for mol in test_mols])\n",
    "\n",
    "print(f\"Le dataset d'entraînement contient {train_fps.shape[0]} molécules encodées avec {train_fps.shape[1]} bits.\")\n",
    "print(f\"Le  dataset de test contient {test_fps.shape[0]} molécules encodées avec  {test_fps.shape[1]} bits.\")"
   ]
  },
  {
   "cell_type": "markdown",
   "id": "ec9447ae-aa8f-4e97-9172-f325629787b9",
   "metadata": {},
   "source": [
    "Nos deux jeux de données contiennent à présent des molécules qui sont des vecteurs binaires de 2048 bits chacun."
   ]
  },
  {
   "cell_type": "code",
   "execution_count": 6,
   "id": "dfd4a210-d436-40a8-a767-718bdaba58ee",
   "metadata": {},
   "outputs": [
    {
     "data": {
      "text/html": [
       "<div>\n",
       "<style scoped>\n",
       "    .dataframe tbody tr th:only-of-type {\n",
       "        vertical-align: middle;\n",
       "    }\n",
       "\n",
       "    .dataframe tbody tr th {\n",
       "        vertical-align: top;\n",
       "    }\n",
       "\n",
       "    .dataframe thead th {\n",
       "        text-align: right;\n",
       "    }\n",
       "</style>\n",
       "<table border=\"1\" class=\"dataframe\">\n",
       "  <thead>\n",
       "    <tr style=\"text-align: right;\">\n",
       "      <th></th>\n",
       "      <th>0</th>\n",
       "      <th>1</th>\n",
       "      <th>2</th>\n",
       "      <th>3</th>\n",
       "      <th>4</th>\n",
       "      <th>5</th>\n",
       "      <th>6</th>\n",
       "      <th>7</th>\n",
       "      <th>8</th>\n",
       "      <th>9</th>\n",
       "      <th>...</th>\n",
       "      <th>2038</th>\n",
       "      <th>2039</th>\n",
       "      <th>2040</th>\n",
       "      <th>2041</th>\n",
       "      <th>2042</th>\n",
       "      <th>2043</th>\n",
       "      <th>2044</th>\n",
       "      <th>2045</th>\n",
       "      <th>2046</th>\n",
       "      <th>2047</th>\n",
       "    </tr>\n",
       "  </thead>\n",
       "  <tbody>\n",
       "    <tr>\n",
       "      <th>0</th>\n",
       "      <td>0</td>\n",
       "      <td>1</td>\n",
       "      <td>0</td>\n",
       "      <td>0</td>\n",
       "      <td>0</td>\n",
       "      <td>0</td>\n",
       "      <td>0</td>\n",
       "      <td>0</td>\n",
       "      <td>0</td>\n",
       "      <td>1</td>\n",
       "      <td>...</td>\n",
       "      <td>0</td>\n",
       "      <td>0</td>\n",
       "      <td>0</td>\n",
       "      <td>0</td>\n",
       "      <td>0</td>\n",
       "      <td>0</td>\n",
       "      <td>0</td>\n",
       "      <td>0</td>\n",
       "      <td>0</td>\n",
       "      <td>0</td>\n",
       "    </tr>\n",
       "    <tr>\n",
       "      <th>1</th>\n",
       "      <td>0</td>\n",
       "      <td>0</td>\n",
       "      <td>0</td>\n",
       "      <td>0</td>\n",
       "      <td>0</td>\n",
       "      <td>1</td>\n",
       "      <td>0</td>\n",
       "      <td>0</td>\n",
       "      <td>0</td>\n",
       "      <td>0</td>\n",
       "      <td>...</td>\n",
       "      <td>0</td>\n",
       "      <td>0</td>\n",
       "      <td>0</td>\n",
       "      <td>0</td>\n",
       "      <td>0</td>\n",
       "      <td>0</td>\n",
       "      <td>0</td>\n",
       "      <td>0</td>\n",
       "      <td>0</td>\n",
       "      <td>0</td>\n",
       "    </tr>\n",
       "    <tr>\n",
       "      <th>2</th>\n",
       "      <td>0</td>\n",
       "      <td>0</td>\n",
       "      <td>0</td>\n",
       "      <td>0</td>\n",
       "      <td>0</td>\n",
       "      <td>0</td>\n",
       "      <td>0</td>\n",
       "      <td>0</td>\n",
       "      <td>0</td>\n",
       "      <td>0</td>\n",
       "      <td>...</td>\n",
       "      <td>0</td>\n",
       "      <td>0</td>\n",
       "      <td>0</td>\n",
       "      <td>0</td>\n",
       "      <td>0</td>\n",
       "      <td>0</td>\n",
       "      <td>0</td>\n",
       "      <td>0</td>\n",
       "      <td>0</td>\n",
       "      <td>0</td>\n",
       "    </tr>\n",
       "    <tr>\n",
       "      <th>3</th>\n",
       "      <td>0</td>\n",
       "      <td>0</td>\n",
       "      <td>0</td>\n",
       "      <td>0</td>\n",
       "      <td>0</td>\n",
       "      <td>0</td>\n",
       "      <td>0</td>\n",
       "      <td>0</td>\n",
       "      <td>0</td>\n",
       "      <td>0</td>\n",
       "      <td>...</td>\n",
       "      <td>0</td>\n",
       "      <td>0</td>\n",
       "      <td>0</td>\n",
       "      <td>0</td>\n",
       "      <td>0</td>\n",
       "      <td>0</td>\n",
       "      <td>0</td>\n",
       "      <td>0</td>\n",
       "      <td>0</td>\n",
       "      <td>0</td>\n",
       "    </tr>\n",
       "    <tr>\n",
       "      <th>4</th>\n",
       "      <td>0</td>\n",
       "      <td>0</td>\n",
       "      <td>0</td>\n",
       "      <td>0</td>\n",
       "      <td>0</td>\n",
       "      <td>0</td>\n",
       "      <td>0</td>\n",
       "      <td>0</td>\n",
       "      <td>0</td>\n",
       "      <td>0</td>\n",
       "      <td>...</td>\n",
       "      <td>0</td>\n",
       "      <td>0</td>\n",
       "      <td>0</td>\n",
       "      <td>0</td>\n",
       "      <td>0</td>\n",
       "      <td>0</td>\n",
       "      <td>0</td>\n",
       "      <td>0</td>\n",
       "      <td>0</td>\n",
       "      <td>0</td>\n",
       "    </tr>\n",
       "  </tbody>\n",
       "</table>\n",
       "<p>5 rows × 2048 columns</p>\n",
       "</div>"
      ],
      "text/plain": [
       "   0     1     2     3     4     5     6     7     8     9     ...  2038  \\\n",
       "0     0     1     0     0     0     0     0     0     0     1  ...     0   \n",
       "1     0     0     0     0     0     1     0     0     0     0  ...     0   \n",
       "2     0     0     0     0     0     0     0     0     0     0  ...     0   \n",
       "3     0     0     0     0     0     0     0     0     0     0  ...     0   \n",
       "4     0     0     0     0     0     0     0     0     0     0  ...     0   \n",
       "\n",
       "   2039  2040  2041  2042  2043  2044  2045  2046  2047  \n",
       "0     0     0     0     0     0     0     0     0     0  \n",
       "1     0     0     0     0     0     0     0     0     0  \n",
       "2     0     0     0     0     0     0     0     0     0  \n",
       "3     0     0     0     0     0     0     0     0     0  \n",
       "4     0     0     0     0     0     0     0     0     0  \n",
       "\n",
       "[5 rows x 2048 columns]"
      ]
     },
     "execution_count": 6,
     "metadata": {},
     "output_type": "execute_result"
    }
   ],
   "source": [
    "pd.DataFrame(train_fps).head()\n",
    "pd.DataFrame(test_fps).head() "
   ]
  },
  {
   "cell_type": "markdown",
   "id": "6a7fba2e-59ae-4421-8042-c1330efb8916",
   "metadata": {},
   "source": [
    "### Machine learning"
   ]
  },
  {
   "cell_type": "markdown",
   "id": "f7296386-104a-4ea6-a80c-74bcc316b3a6",
   "metadata": {},
   "source": [
    "Maintenant, que nous disposons des données, nous pouvons entraîner des modèles d'apprentissage sur celle-ci."
   ]
  }
 ],
 "metadata": {
  "kernelspec": {
   "display_name": "Python 3 (ipykernel)",
   "language": "python",
   "name": "python3"
  },
  "language_info": {
   "codemirror_mode": {
    "name": "ipython",
    "version": 3
   },
   "file_extension": ".py",
   "mimetype": "text/x-python",
   "name": "python",
   "nbconvert_exporter": "python",
   "pygments_lexer": "ipython3",
   "version": "3.12.7"
  }
 },
 "nbformat": 4,
 "nbformat_minor": 5
}
