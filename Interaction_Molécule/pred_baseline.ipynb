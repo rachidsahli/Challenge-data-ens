{
 "cells": [
  {
   "cell_type": "markdown",
   "id": "fa5b28fe-bd72-46f8-b96c-78edba995ad5",
   "metadata": {},
   "source": [
    "# Prédire l'interaction molécule - protéine pour la découverte de médicaments"
   ]
  },
  {
   "cell_type": "markdown",
   "id": "3ac6f163-a4c4-4188-a05c-e80c6a9b336f",
   "metadata": {},
   "source": [
    "### Import des données "
   ]
  },
  {
   "cell_type": "code",
   "execution_count": 1,
   "id": "87db58c2-b96c-4806-b0ab-229ac4f06c83",
   "metadata": {},
   "outputs": [],
   "source": [
    "# Import librairies ----\n",
    "## Algèbre linéaire et manipulation de données\n",
    "import numpy as np\n",
    "import pandas as pd\n",
    "import py3Dmol\n",
    "\n",
    "## RDKit\n",
    "import rdkit \n",
    "from rdkit import Chem\n",
    "from rdkit.Chem import AllChem\n",
    "from rdkit.Chem import Draw\n",
    "\n",
    "## Machine learning\n",
    "from sklearn.ensemble import RandomForestRegressor\n",
    "from sklearn.model_selection import cross_validate"
   ]
  },
  {
   "cell_type": "code",
   "execution_count": 2,
   "id": "9a989f98-5c02-45e4-977d-1b08d50e1721",
   "metadata": {},
   "outputs": [
    {
     "name": "stdout",
     "output_type": "stream",
     "text": [
      "Le dataset d'entraînement contient 4400 molécules.\n",
      "le dataset de test contient 2934 molécules.\n"
     ]
    },
    {
     "data": {
      "text/html": [
       "<div>\n",
       "<style scoped>\n",
       "    .dataframe tbody tr th:only-of-type {\n",
       "        vertical-align: middle;\n",
       "    }\n",
       "\n",
       "    .dataframe tbody tr th {\n",
       "        vertical-align: top;\n",
       "    }\n",
       "\n",
       "    .dataframe thead th {\n",
       "        text-align: right;\n",
       "    }\n",
       "</style>\n",
       "<table border=\"1\" class=\"dataframe\">\n",
       "  <thead>\n",
       "    <tr style=\"text-align: right;\">\n",
       "      <th></th>\n",
       "      <th>id</th>\n",
       "      <th>smiles</th>\n",
       "    </tr>\n",
       "  </thead>\n",
       "  <tbody>\n",
       "    <tr>\n",
       "      <th>0</th>\n",
       "      <td>0</td>\n",
       "      <td>CNC(=O)c1ccccc1Sc1ccc2c(C#Cc3cccc(NCCOC)c3)n[n...</td>\n",
       "    </tr>\n",
       "    <tr>\n",
       "      <th>1</th>\n",
       "      <td>1</td>\n",
       "      <td>CC(C)(C)c1ccc(Nc2nnc(-c3cnccc3CCc3ccncc3)o2)cc1</td>\n",
       "    </tr>\n",
       "    <tr>\n",
       "      <th>2</th>\n",
       "      <td>2</td>\n",
       "      <td>CN1CCN(CCCn2ccc(-c3cnc4c(-c5ccsc5)cnn4c3)cc2=O...</td>\n",
       "    </tr>\n",
       "    <tr>\n",
       "      <th>3</th>\n",
       "      <td>3</td>\n",
       "      <td>CCn1c2ccc(NC(=O)Nc3ccc(OC)cc3)cc2c2c3c(c4c(c21...</td>\n",
       "    </tr>\n",
       "    <tr>\n",
       "      <th>4</th>\n",
       "      <td>4</td>\n",
       "      <td>Cc1ccc(C(=O)Nc2cccc(C(C)C)c2)cc1N1CCc2ncncc2C1</td>\n",
       "    </tr>\n",
       "  </tbody>\n",
       "</table>\n",
       "</div>"
      ],
      "text/plain": [
       "   id                                             smiles\n",
       "0   0  CNC(=O)c1ccccc1Sc1ccc2c(C#Cc3cccc(NCCOC)c3)n[n...\n",
       "1   1    CC(C)(C)c1ccc(Nc2nnc(-c3cnccc3CCc3ccncc3)o2)cc1\n",
       "2   2  CN1CCN(CCCn2ccc(-c3cnc4c(-c5ccsc5)cnn4c3)cc2=O...\n",
       "3   3  CCn1c2ccc(NC(=O)Nc3ccc(OC)cc3)cc2c2c3c(c4c(c21...\n",
       "4   4     Cc1ccc(C(=O)Nc2cccc(C(C)C)c2)cc1N1CCc2ncncc2C1"
      ]
     },
     "execution_count": 2,
     "metadata": {},
     "output_type": "execute_result"
    }
   ],
   "source": [
    "# Import data ----\n",
    "train = pd.read_csv('data/x_train.csv')\n",
    "test = pd.read_csv('data/x_test.csv')\n",
    "\n",
    "y_train = pd.read_csv('data/y_train.csv')['y']\n",
    "\n",
    "print(f\"Le dataset d'entraînement contient {train.shape[0]} molécules.\")\n",
    "print(f\"le dataset de test contient {test.shape[0]} molécules.\")\n",
    "\n",
    "train.head()"
   ]
  },
  {
   "cell_type": "markdown",
   "id": "489808f8-2969-4361-b6e5-8fb561298047",
   "metadata": {},
   "source": [
    "### Visualisation des molécules"
   ]
  },
  {
   "cell_type": "code",
   "execution_count": 3,
   "id": "cb05ec9d-d5f2-476d-a93d-b642db321d38",
   "metadata": {},
   "outputs": [
    {
     "data": {
      "image/jpeg": "[encoded data removed]",
      "image/png": "[encoded data removed]",
      "text/plain": [
       "<PIL.PngImagePlugin.PngImageFile image mode=RGB size=300x300>"
      ]
     },
     "metadata": {},
     "output_type": "display_data"
    },
    {
     "data": {
      "application/3dmoljs_load.v0": "<div id=\"3dmolviewer_17417885541918273\"  style=\"position: relative; width: 450px; height: 450px;\">\n        <p id=\"3dmolwarning_17417885541918273\" style=\"background-color:#ffcccc;color:black\">3Dmol.js failed to load for some reason.  Please check your browser console for error messages.<br></p>\n        </div>\n<script>\n\nvar loadScriptAsync = function(uri){\n  return new Promise((resolve, reject) => {\n    //this is to ignore the existence of requirejs amd\n    var savedexports, savedmodule;\n    if (typeof exports !== 'undefined') savedexports = exports;\n    else exports = {}\n    if (typeof module !== 'undefined') savedmodule = module;\n    else module = {}\n\n    var tag = document.createElement('script');\n    tag.src = uri;\n    tag.async = true;\n    tag.onload = () => {\n        exports = savedexports;\n        module = savedmodule;\n        resolve();\n    };\n  var firstScriptTag = document.getElementsByTagName('script')[0];\n  firstScriptTag.parentNode.insertBefore(tag, firstScriptTag);\n});\n};\n\nif(typeof $3Dmolpromise === 'undefined') {\n$3Dmolpromise = null;\n  $3Dmolpromise = loadScriptAsync('https://cdnjs.cloudflare.com/ajax/libs/3Dmol/2.4.2/3Dmol-min.js');\n}\n\nvar viewer_17417885541918273 = null;\nvar warn = document.getElementById(\"3dmolwarning_17417885541918273\");\nif(warn) {\n    warn.parentNode.removeChild(warn);\n}\n$3Dmolpromise.then(function() {\nviewer_17417885541918273 = $3Dmol.createViewer(document.getElementById(\"3dmolviewer_17417885541918273\"),{backgroundColor:\"white\"});\nviewer_17417885541918273.zoomTo();\n\tviewer_17417885541918273.addModel(\"\\n     RDKit          2D\\n\\n 31 36  0  0  0  0  0  0  0  0999 V2000\\n   -9.5708   -0.4428    0.0000 C   0  0  0  0  0  0  0  0  0  0  0  0\\n   -8.2026   -1.0576    0.0000 O   0  0  0  0  0  0  0  0  0  0  0  0\\n   -6.9860   -0.1802    0.0000 N   0  0  0  0  0  0  0  0  0  0  0  0\\n   -5.6178   -0.7950    0.0000 C   0  0  0  0  0  0  0  0  0  0  0  0\\n   -5.4662   -2.2873    0.0000 C   0  0  0  0  0  0  0  0  0  0  0  0\\n   -4.4012    0.0825    0.0000 C   0  0  0  0  0  0  0  0  0  0  0  0\\n   -4.5528    1.5748    0.0000 C   0  0  0  0  0  0  0  0  0  0  0  0\\n   -3.3363    2.4522    0.0000 C   0  0  0  0  0  0  0  0  0  0  0  0\\n   -1.9681    1.8374    0.0000 C   0  0  0  0  0  0  0  0  0  0  0  0\\n   -1.8165    0.3451    0.0000 C   0  0  0  0  0  0  0  0  0  0  0  0\\n   -3.0330   -0.5324    0.0000 C   0  0  0  0  0  0  0  0  0  0  0  0\\n   -0.3503    0.0281    0.0000 C   0  0  0  0  0  0  0  0  0  0  0  0\\n    0.3952   -1.2735    0.0000 C   0  0  0  0  0  0  0  0  0  0  0  0\\n    1.8952   -1.2787    0.0000 C   0  0  0  0  0  0  0  0  0  0  0  0\\n    2.6497    0.0177    0.0000 C   0  0  0  0  0  0  0  0  0  0  0  0\\n    1.9042    1.3194    0.0000 C   0  0  0  0  0  0  0  0  0  0  0  0\\n    0.4042    1.3246    0.0000 C   0  0  0  0  0  0  0  0  0  0  0  0\\n   -0.5957    2.4427    0.0000 N   0  0  0  0  0  0  0  0  0  0  0  0\\n   -0.2787    3.9089    0.0000 C   0  0  0  0  0  0  0  0  0  0  0  0\\n    2.6587    2.6158    0.0000 C   0  0  0  0  0  0  0  0  0  0  0  0\\n    4.1587    2.6106    0.0000 C   0  0  0  0  0  0  0  0  0  0  0  0\\n    4.9041    1.3090    0.0000 C   0  0  0  0  0  0  0  0  0  0  0  0\\n    6.3703    0.9920    0.0000 N   0  0  0  0  0  0  0  0  0  0  0  0\\n    6.5219   -0.5003    0.0000 N   0  0  0  0  0  0  0  0  0  0  0  0\\n    7.8183   -1.2548    0.0000 C   0  0  0  0  0  0  0  0  0  0  0  0\\n    5.1495   -1.1056    0.0000 C   0  0  0  0  0  0  0  0  0  0  0  0\\n    4.1497    0.0125    0.0000 C   0  0  0  0  0  0  0  0  0  0  0  0\\n    2.3538   -2.7069    0.0000 C   0  0  0  0  0  0  0  0  0  0  0  0\\n    3.7787   -3.1753    0.0000 O   0  0  0  0  0  0  0  0  0  0  0  0\\n    1.1372   -3.5843    0.0000 N   0  0  0  0  0  0  0  0  0  0  0  0\\n   -0.0733   -2.6985    0.0000 C   0  0  0  0  0  0  0  0  0  0  0  0\\n  1  2  1  0\\n  2  3  1  0\\n  3  4  2  0\\n  4  5  1  0\\n  4  6  1  0\\n  6  7  2  0\\n  7  8  1  0\\n  8  9  2  0\\n  9 10  1  0\\n 10 11  2  0\\n 10 12  1  0\\n 12 13  2  0\\n 13 14  1  0\\n 14 15  2  0\\n 15 16  1  0\\n 16 17  2  0\\n 17 18  1  0\\n 18 19  1  0\\n 16 20  1  0\\n 20 21  1  0\\n 21 22  1  0\\n 22 23  2  0\\n 23 24  1  0\\n 24 25  1  0\\n 24 26  1  0\\n 26 27  2  0\\n 14 28  1  0\\n 28 29  2  0\\n 28 30  1  0\\n 30 31  1  0\\n 11  6  1  0\\n 17 12  1  0\\n 27 22  1  0\\n 18  9  1  0\\n 31 13  1  0\\n 27 15  1  0\\nM  END\\n\",\"mol\");\n\tviewer_17417885541918273.setStyle({\"stick\": {}});\n\tviewer_17417885541918273.zoomTo();\nviewer_17417885541918273.render();\n});\n</script>",
      "text/html": [
       "<div id=\"3dmolviewer_17417885541918273\"  style=\"position: relative; width: 450px; height: 450px;\">\n",
       "        <p id=\"3dmolwarning_17417885541918273\" style=\"background-color:#ffcccc;color:black\">3Dmol.js failed to load for some reason.  Please check your browser console for error messages.<br></p>\n",
       "        </div>\n",
       "<script>\n",
       "\n",
       "var loadScriptAsync = function(uri){\n",
       "  return new Promise((resolve, reject) => {\n",
       "    //this is to ignore the existence of requirejs amd\n",
       "    var savedexports, savedmodule;\n",
       "    if (typeof exports !== 'undefined') savedexports = exports;\n",
       "    else exports = {}\n",
       "    if (typeof module !== 'undefined') savedmodule = module;\n",
       "    else module = {}\n",
       "\n",
       "    var tag = document.createElement('script');\n",
       "    tag.src = uri;\n",
       "    tag.async = true;\n",
       "    tag.onload = () => {\n",
       "        exports = savedexports;\n",
       "        module = savedmodule;\n",
       "        resolve();\n",
       "    };\n",
       "  var firstScriptTag = document.getElementsByTagName('script')[0];\n",
       "  firstScriptTag.parentNode.insertBefore(tag, firstScriptTag);\n",
       "});\n",
       "};\n",
       "\n",
       "if(typeof $3Dmolpromise === 'undefined') {\n",
       "$3Dmolpromise = null;\n",
       "  $3Dmolpromise = loadScriptAsync('https://cdnjs.cloudflare.com/ajax/libs/3Dmol/2.4.2/3Dmol-min.js');\n",
       "}\n",
       "\n",
       "var viewer_17417885541918273 = null;\n",
       "var warn = document.getElementById(\"3dmolwarning_17417885541918273\");\n",
       "if(warn) {\n",
       "    warn.parentNode.removeChild(warn);\n",
       "}\n",
       "$3Dmolpromise.then(function() {\n",
       "viewer_17417885541918273 = $3Dmol.createViewer(document.getElementById(\"3dmolviewer_17417885541918273\"),{backgroundColor:\"white\"});\n",
       "viewer_17417885541918273.zoomTo();\n",
       "\tviewer_17417885541918273.addModel(\"\\n     RDKit          2D\\n\\n 31 36  0  0  0  0  0  0  0  0999 V2000\\n   -9.5708   -0.4428    0.0000 C   0  0  0  0  0  0  0  0  0  0  0  0\\n   -8.2026   -1.0576    0.0000 O   0  0  0  0  0  0  0  0  0  0  0  0\\n   -6.9860   -0.1802    0.0000 N   0  0  0  0  0  0  0  0  0  0  0  0\\n   -5.6178   -0.7950    0.0000 C   0  0  0  0  0  0  0  0  0  0  0  0\\n   -5.4662   -2.2873    0.0000 C   0  0  0  0  0  0  0  0  0  0  0  0\\n   -4.4012    0.0825    0.0000 C   0  0  0  0  0  0  0  0  0  0  0  0\\n   -4.5528    1.5748    0.0000 C   0  0  0  0  0  0  0  0  0  0  0  0\\n   -3.3363    2.4522    0.0000 C   0  0  0  0  0  0  0  0  0  0  0  0\\n   -1.9681    1.8374    0.0000 C   0  0  0  0  0  0  0  0  0  0  0  0\\n   -1.8165    0.3451    0.0000 C   0  0  0  0  0  0  0  0  0  0  0  0\\n   -3.0330   -0.5324    0.0000 C   0  0  0  0  0  0  0  0  0  0  0  0\\n   -0.3503    0.0281    0.0000 C   0  0  0  0  0  0  0  0  0  0  0  0\\n    0.3952   -1.2735    0.0000 C   0  0  0  0  0  0  0  0  0  0  0  0\\n    1.8952   -1.2787    0.0000 C   0  0  0  0  0  0  0  0  0  0  0  0\\n    2.6497    0.0177    0.0000 C   0  0  0  0  0  0  0  0  0  0  0  0\\n    1.9042    1.3194    0.0000 C   0  0  0  0  0  0  0  0  0  0  0  0\\n    0.4042    1.3246    0.0000 C   0  0  0  0  0  0  0  0  0  0  0  0\\n   -0.5957    2.4427    0.0000 N   0  0  0  0  0  0  0  0  0  0  0  0\\n   -0.2787    3.9089    0.0000 C   0  0  0  0  0  0  0  0  0  0  0  0\\n    2.6587    2.6158    0.0000 C   0  0  0  0  0  0  0  0  0  0  0  0\\n    4.1587    2.6106    0.0000 C   0  0  0  0  0  0  0  0  0  0  0  0\\n    4.9041    1.3090    0.0000 C   0  0  0  0  0  0  0  0  0  0  0  0\\n    6.3703    0.9920    0.0000 N   0  0  0  0  0  0  0  0  0  0  0  0\\n    6.5219   -0.5003    0.0000 N   0  0  0  0  0  0  0  0  0  0  0  0\\n    7.8183   -1.2548    0.0000 C   0  0  0  0  0  0  0  0  0  0  0  0\\n    5.1495   -1.1056    0.0000 C   0  0  0  0  0  0  0  0  0  0  0  0\\n    4.1497    0.0125    0.0000 C   0  0  0  0  0  0  0  0  0  0  0  0\\n    2.3538   -2.7069    0.0000 C   0  0  0  0  0  0  0  0  0  0  0  0\\n    3.7787   -3.1753    0.0000 O   0  0  0  0  0  0  0  0  0  0  0  0\\n    1.1372   -3.5843    0.0000 N   0  0  0  0  0  0  0  0  0  0  0  0\\n   -0.0733   -2.6985    0.0000 C   0  0  0  0  0  0  0  0  0  0  0  0\\n  1  2  1  0\\n  2  3  1  0\\n  3  4  2  0\\n  4  5  1  0\\n  4  6  1  0\\n  6  7  2  0\\n  7  8  1  0\\n  8  9  2  0\\n  9 10  1  0\\n 10 11  2  0\\n 10 12  1  0\\n 12 13  2  0\\n 13 14  1  0\\n 14 15  2  0\\n 15 16  1  0\\n 16 17  2  0\\n 17 18  1  0\\n 18 19  1  0\\n 16 20  1  0\\n 20 21  1  0\\n 21 22  1  0\\n 22 23  2  0\\n 23 24  1  0\\n 24 25  1  0\\n 24 26  1  0\\n 26 27  2  0\\n 14 28  1  0\\n 28 29  2  0\\n 28 30  1  0\\n 30 31  1  0\\n 11  6  1  0\\n 17 12  1  0\\n 27 22  1  0\\n 18  9  1  0\\n 31 13  1  0\\n 27 15  1  0\\nM  END\\n\",\"mol\");\n",
       "\tviewer_17417885541918273.setStyle({\"stick\": {}});\n",
       "\tviewer_17417885541918273.zoomTo();\n",
       "viewer_17417885541918273.render();\n",
       "});\n",
       "</script>"
      ]
     },
     "metadata": {},
     "output_type": "display_data"
    }
   ],
   "source": [
    "index = 95 # Index de la molécule\n",
    "smiles = train.loc[index, \"smiles\"] # La châine SMILES correspondantes\n",
    "mol = Chem.MolFromSmiles(smiles) # Conversion en molécule RDKIT\n",
    "img = Draw.MolToImage(mol)\n",
    "display(img) # Affichage de la molécule\n",
    "\n",
    "view = py3Dmol.view(width=450, height=450) # Affichage en 3D\n",
    "AllChem.Compute2DCoords(mol)\n",
    "mol_block = Chem.MolToMolBlock(mol)\n",
    "view.addModel(mol_block, \"mol\")\n",
    "view.setStyle({\"stick\": {}})\n",
    "view.zoomTo()\n",
    "view.show()"
   ]
  }
 ],
 "metadata": {
  "kernelspec": {
   "display_name": "Python 3 (ipykernel)",
   "language": "python",
   "name": "python3"
  },
  "language_info": {
   "codemirror_mode": {
    "name": "ipython",
    "version": 3
   },
   "file_extension": ".py",
   "mimetype": "text/x-python",
   "name": "python",
   "nbconvert_exporter": "python",
   "pygments_lexer": "ipython3",
   "version": "3.12.7"
  }
 },
 "nbformat": 4,
 "nbformat_minor": 5
}
